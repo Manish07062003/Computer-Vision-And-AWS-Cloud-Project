{
 "cells": [
  {
   "cell_type": "code",
   "execution_count": 1,
   "id": "01d6097c",
   "metadata": {},
   "outputs": [
    {
     "data": {
      "text/plain": [
       "7"
      ]
     },
     "execution_count": 1,
     "metadata": {},
     "output_type": "execute_result"
    }
   ],
   "source": [
    "5 + 2"
   ]
  },
  {
   "cell_type": "code",
   "execution_count": 2,
   "id": "102baa4f",
   "metadata": {},
   "outputs": [
    {
     "name": "stdout",
     "output_type": "stream",
     "text": [
      "vimal\n"
     ]
    }
   ],
   "source": [
    "print(\"vimal\")"
   ]
  },
  {
   "cell_type": "code",
   "execution_count": 3,
   "id": "e67461e5",
   "metadata": {},
   "outputs": [],
   "source": [
    "x = 5"
   ]
  },
  {
   "cell_type": "code",
   "execution_count": 4,
   "id": "73842b72",
   "metadata": {},
   "outputs": [
    {
     "name": "stdout",
     "output_type": "stream",
     "text": [
      "5\n"
     ]
    }
   ],
   "source": [
    "print(x)"
   ]
  },
  {
   "cell_type": "code",
   "execution_count": 5,
   "id": "8bd407b5",
   "metadata": {},
   "outputs": [],
   "source": [
    "x  = 10"
   ]
  },
  {
   "cell_type": "code",
   "execution_count": 6,
   "id": "abb2a8ee",
   "metadata": {},
   "outputs": [
    {
     "name": "stdout",
     "output_type": "stream",
     "text": [
      "10\n"
     ]
    }
   ],
   "source": [
    "print(x)"
   ]
  },
  {
   "cell_type": "code",
   "execution_count": 7,
   "id": "c4b74c29",
   "metadata": {},
   "outputs": [],
   "source": [
    "y = [ 5, 10, 20, 30 ] "
   ]
  },
  {
   "cell_type": "code",
   "execution_count": 8,
   "id": "aecdfaa7",
   "metadata": {},
   "outputs": [
    {
     "name": "stdout",
     "output_type": "stream",
     "text": [
      "[5, 10, 20, 30]\n"
     ]
    }
   ],
   "source": [
    "print(y)"
   ]
  },
  {
   "cell_type": "code",
   "execution_count": 9,
   "id": "eb10b20d",
   "metadata": {},
   "outputs": [
    {
     "data": {
      "text/plain": [
       "['zsh:1: command not found: chrome']"
      ]
     },
     "execution_count": 9,
     "metadata": {},
     "output_type": "execute_result"
    }
   ],
   "source": [
    "system(\"chrome\")"
   ]
  },
  {
   "cell_type": "code",
   "execution_count": 10,
   "id": "1f48d7b2",
   "metadata": {},
   "outputs": [
    {
     "data": {
      "text/plain": [
       "['zsh:1: no such file or directory: date /t']"
      ]
     },
     "execution_count": 10,
     "metadata": {},
     "output_type": "execute_result"
    }
   ],
   "source": [
    "system(\"date /t\")"
   ]
  },
  {
   "cell_type": "code",
   "execution_count": 11,
   "id": "4ecaf7c2",
   "metadata": {},
   "outputs": [],
   "source": [
    "import os"
   ]
  },
  {
   "cell_type": "code",
   "execution_count": 12,
   "id": "595b235a",
   "metadata": {},
   "outputs": [
    {
     "name": "stderr",
     "output_type": "stream",
     "text": [
      "sh: chrome: command not found\n"
     ]
    },
    {
     "data": {
      "text/plain": [
       "32512"
      ]
     },
     "execution_count": 12,
     "metadata": {},
     "output_type": "execute_result"
    }
   ],
   "source": [
    "os.system(\"chrome\")"
   ]
  },
  {
   "cell_type": "code",
   "execution_count": 13,
   "id": "bf93017b",
   "metadata": {},
   "outputs": [
    {
     "name": "stdout",
     "output_type": "stream",
     "text": [
      "vimal\n"
     ]
    }
   ],
   "source": [
    "print(\"vimal\")"
   ]
  },
  {
   "cell_type": "code",
   "execution_count": 14,
   "id": "7f3a2cfe",
   "metadata": {},
   "outputs": [],
   "source": [
    " names = [  \"vimal\" , \"pop\", \"eric\", \"rahul\" ]"
   ]
  },
  {
   "cell_type": "code",
   "execution_count": 15,
   "id": "9b45a01d",
   "metadata": {},
   "outputs": [
    {
     "data": {
      "text/plain": [
       "['vimal', 'pop', 'eric', 'rahul']"
      ]
     },
     "execution_count": 15,
     "metadata": {},
     "output_type": "execute_result"
    }
   ],
   "source": [
    "names"
   ]
  },
  {
   "cell_type": "code",
   "execution_count": 16,
   "id": "a7774adb",
   "metadata": {},
   "outputs": [
    {
     "data": {
      "text/plain": [
       "'eric'"
      ]
     },
     "execution_count": 16,
     "metadata": {},
     "output_type": "execute_result"
    }
   ],
   "source": [
    "names[2]"
   ]
  },
  {
   "cell_type": "code",
   "execution_count": 17,
   "id": "87451d9d",
   "metadata": {},
   "outputs": [
    {
     "data": {
      "text/plain": [
       "['vimal', 'pop', 'eric']"
      ]
     },
     "execution_count": 17,
     "metadata": {},
     "output_type": "execute_result"
    }
   ],
   "source": [
    "names[0:3]"
   ]
  },
  {
   "cell_type": "code",
   "execution_count": 18,
   "id": "8bf291d4",
   "metadata": {},
   "outputs": [
    {
     "data": {
      "text/plain": [
       "['pop', 'eric']"
      ]
     },
     "execution_count": 18,
     "metadata": {},
     "output_type": "execute_result"
    }
   ],
   "source": [
    "names[1:3]"
   ]
  },
  {
   "cell_type": "code",
   "execution_count": 19,
   "id": "f6be63ae",
   "metadata": {},
   "outputs": [
    {
     "data": {
      "text/plain": [
       "['vimal', 'pop', 'eric', 'rahul']"
      ]
     },
     "execution_count": 19,
     "metadata": {},
     "output_type": "execute_result"
    }
   ],
   "source": [
    "names"
   ]
  },
  {
   "cell_type": "code",
   "execution_count": 20,
   "id": "d6e7b416",
   "metadata": {},
   "outputs": [
    {
     "data": {
      "text/plain": [
       "['eric', 'rahul']"
      ]
     },
     "execution_count": 20,
     "metadata": {},
     "output_type": "execute_result"
    }
   ],
   "source": [
    "names[2:]"
   ]
  },
  {
   "cell_type": "code",
   "execution_count": 21,
   "id": "103945aa",
   "metadata": {},
   "outputs": [
    {
     "data": {
      "text/plain": [
       "['vimal', 'pop', 'eric']"
      ]
     },
     "execution_count": 21,
     "metadata": {},
     "output_type": "execute_result"
    }
   ],
   "source": [
    "names[:3]"
   ]
  },
  {
   "cell_type": "code",
   "execution_count": 22,
   "id": "0865db05",
   "metadata": {},
   "outputs": [
    {
     "data": {
      "text/plain": [
       "['vimal', 'pop', 'eric', 'rahul']"
      ]
     },
     "execution_count": 22,
     "metadata": {},
     "output_type": "execute_result"
    }
   ],
   "source": [
    "names[:]"
   ]
  },
  {
   "cell_type": "code",
   "execution_count": 23,
   "id": "cd6b78ec",
   "metadata": {},
   "outputs": [
    {
     "data": {
      "text/plain": [
       "['vimal', 'pop', 'eric', 'rahul']"
      ]
     },
     "execution_count": 23,
     "metadata": {},
     "output_type": "execute_result"
    }
   ],
   "source": [
    "names"
   ]
  },
  {
   "cell_type": "code",
   "execution_count": 24,
   "id": "dbcf0eee",
   "metadata": {},
   "outputs": [],
   "source": [
    "db =  [ [ \"vimal\" , 111, \"ok\" ] , [\"rahul\", 2222, \"good\"] , [\"eric\", 3333, \"ok\"], [\"tom\" , 44444, \"ok\"] ] "
   ]
  },
  {
   "cell_type": "code",
   "execution_count": 25,
   "id": "503cb44b",
   "metadata": {},
   "outputs": [
    {
     "data": {
      "text/plain": [
       "[['vimal', 111, 'ok'],\n",
       " ['rahul', 2222, 'good'],\n",
       " ['eric', 3333, 'ok'],\n",
       " ['tom', 44444, 'ok']]"
      ]
     },
     "execution_count": 25,
     "metadata": {},
     "output_type": "execute_result"
    }
   ],
   "source": [
    "db"
   ]
  },
  {
   "cell_type": "code",
   "execution_count": 26,
   "id": "d1d717b4",
   "metadata": {},
   "outputs": [
    {
     "data": {
      "text/plain": [
       "['vimal', 111, 'ok']"
      ]
     },
     "execution_count": 26,
     "metadata": {},
     "output_type": "execute_result"
    }
   ],
   "source": [
    "db[0]"
   ]
  },
  {
   "cell_type": "code",
   "execution_count": 27,
   "id": "aa130f7f",
   "metadata": {},
   "outputs": [
    {
     "data": {
      "text/plain": [
       "['eric', 3333, 'ok']"
      ]
     },
     "execution_count": 27,
     "metadata": {},
     "output_type": "execute_result"
    }
   ],
   "source": [
    "db[2]"
   ]
  },
  {
   "cell_type": "code",
   "execution_count": 28,
   "id": "c227c201",
   "metadata": {},
   "outputs": [
    {
     "data": {
      "text/plain": [
       "[['eric', 3333, 'ok'], ['tom', 44444, 'ok']]"
      ]
     },
     "execution_count": 28,
     "metadata": {},
     "output_type": "execute_result"
    }
   ],
   "source": [
    "db[2:4]"
   ]
  },
  {
   "cell_type": "code",
   "execution_count": 29,
   "id": "5e2b3794",
   "metadata": {},
   "outputs": [
    {
     "data": {
      "text/plain": [
       "'good'"
      ]
     },
     "execution_count": 29,
     "metadata": {},
     "output_type": "execute_result"
    }
   ],
   "source": [
    "db[1][2]"
   ]
  },
  {
   "cell_type": "code",
   "execution_count": 30,
   "id": "a7fb1376",
   "metadata": {},
   "outputs": [],
   "source": [
    "db =  [ [ \"vimal\" , 111, \"ok\" ] , [\"rahul\", 2222, \"good\"] , [\"eric\", 3333, \"ok\"], [\"tom\" , 44444, \"ok\"] ] "
   ]
  },
  {
   "cell_type": "code",
   "execution_count": 31,
   "id": "82251904",
   "metadata": {},
   "outputs": [
    {
     "ename": "NameError",
     "evalue": "name 'array' is not defined",
     "output_type": "error",
     "traceback": [
      "\u001b[0;31m---------------------------------------------------------------------------\u001b[0m",
      "\u001b[0;31mNameError\u001b[0m                                 Traceback (most recent call last)",
      "Cell \u001b[0;32mIn [31], line 1\u001b[0m\n\u001b[0;32m----> 1\u001b[0m \u001b[43marray\u001b[49m(db)\n",
      "\u001b[0;31mNameError\u001b[0m: name 'array' is not defined"
     ]
    }
   ],
   "source": [
    "array(db)"
   ]
  },
  {
   "cell_type": "code",
   "execution_count": null,
   "id": "4ffa5ee2",
   "metadata": {},
   "outputs": [],
   "source": [
    "import numpy"
   ]
  },
  {
   "cell_type": "code",
   "execution_count": null,
   "id": "cbaa5cdc",
   "metadata": {},
   "outputs": [],
   "source": [
    "b = numpy.array(db)"
   ]
  },
  {
   "cell_type": "code",
   "execution_count": null,
   "id": "182bf20c",
   "metadata": {},
   "outputs": [],
   "source": [
    "b[: , 2]"
   ]
  },
  {
   "cell_type": "code",
   "execution_count": null,
   "id": "49c3e7ac",
   "metadata": {},
   "outputs": [],
   "source": [
    "b[1:3 , 1:3]"
   ]
  },
  {
   "cell_type": "code",
   "execution_count": null,
   "id": "2adb1d00",
   "metadata": {},
   "outputs": [],
   "source": [
    "b"
   ]
  },
  {
   "cell_type": "code",
   "execution_count": null,
   "id": "01dd7c7b",
   "metadata": {},
   "outputs": [],
   "source": [
    "b.shape"
   ]
  },
  {
   "cell_type": "code",
   "execution_count": null,
   "id": "5c940363",
   "metadata": {},
   "outputs": [],
   "source": []
  },
  {
   "cell_type": "code",
   "execution_count": null,
   "id": "8ab78091",
   "metadata": {},
   "outputs": [],
   "source": []
  },
  {
   "cell_type": "code",
   "execution_count": null,
   "id": "c1bfc4b0",
   "metadata": {},
   "outputs": [],
   "source": []
  },
  {
   "cell_type": "code",
   "execution_count": null,
   "id": "363a35f8",
   "metadata": {},
   "outputs": [],
   "source": []
  },
  {
   "cell_type": "code",
   "execution_count": null,
   "id": "bd7dd8f3",
   "metadata": {},
   "outputs": [],
   "source": [
    "status , photo = cap.read()"
   ]
  },
  {
   "cell_type": "code",
   "execution_count": null,
   "id": "e25f4e4c",
   "metadata": {},
   "outputs": [],
   "source": [
    "status"
   ]
  },
  {
   "cell_type": "code",
   "execution_count": null,
   "id": "b23af18e",
   "metadata": {},
   "outputs": [],
   "source": [
    "cv2.imwrite(\"vimal.png\" , photo)"
   ]
  },
  {
   "cell_type": "code",
   "execution_count": null,
   "id": "ef8ad287",
   "metadata": {},
   "outputs": [],
   "source": [
    "photo.shape"
   ]
  },
  {
   "cell_type": "code",
   "execution_count": null,
   "id": "97af4ede",
   "metadata": {},
   "outputs": [],
   "source": [
    "crop1 = photo[100:300, 200:500]"
   ]
  },
  {
   "cell_type": "code",
   "execution_count": null,
   "id": "b7f0240a",
   "metadata": {},
   "outputs": [],
   "source": [
    "cv2.imwrite(\"crop.png\", crop1)"
   ]
  },
  {
   "cell_type": "code",
   "execution_count": null,
   "id": "7c0f4e6f",
   "metadata": {},
   "outputs": [],
   "source": [
    "cv2.imshow(\"my photo\" , photo)\n",
    "print ( cv2.waitKey() )\n",
    "cv2.destroyAllWindows()\n"
   ]
  },
  {
   "cell_type": "code",
   "execution_count": null,
   "id": "5869f29f",
   "metadata": {},
   "outputs": [],
   "source": [
    "import cv2\n",
    "cap  = cv2.VideoCapture(0)"
   ]
  },
  {
   "cell_type": "code",
   "execution_count": null,
   "id": "381e134e",
   "metadata": {},
   "outputs": [],
   "source": [
    "# shift + enter"
   ]
  },
  {
   "cell_type": "code",
   "execution_count": null,
   "id": "b48bb517",
   "metadata": {
    "scrolled": true
   },
   "outputs": [],
   "source": [
    "while True:\n",
    "  status , photo = cap.read()\n",
    "  cv2.imshow(\"my photo\" , photo)\n",
    "  if cv2.waitKey(100) == 13:\n",
    "    break\n",
    "   \n",
    "cv2.destroyAllWindows()"
   ]
  },
  {
   "cell_type": "code",
   "execution_count": null,
   "id": "6501a869",
   "metadata": {},
   "outputs": [],
   "source": [
    "cap.release()"
   ]
  },
  {
   "cell_type": "code",
   "execution_count": null,
   "id": "e4246ef0",
   "metadata": {},
   "outputs": [],
   "source": []
  }
 ],
 "metadata": {
  "kernelspec": {
   "display_name": "Python 3 (ipykernel)",
   "language": "python",
   "name": "python3"
  },
  "language_info": {
   "codemirror_mode": {
    "name": "ipython",
    "version": 3
   },
   "file_extension": ".py",
   "mimetype": "text/x-python",
   "name": "python",
   "nbconvert_exporter": "python",
   "pygments_lexer": "ipython3",
   "version": "3.9.12"
  },
  "vscode": {
   "interpreter": {
    "hash": "7e1998ff7f8aa20ada591c520b972326324e5ea05489af9e422744c7c09f6dad"
   }
  }
 },
 "nbformat": 4,
 "nbformat_minor": 5
}
