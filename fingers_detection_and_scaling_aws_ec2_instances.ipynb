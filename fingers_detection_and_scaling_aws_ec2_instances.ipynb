{
 "cells": [
  {
   "cell_type": "code",
   "execution_count": null,
   "id": "6a751b76",
   "metadata": {},
   "outputs": [],
   "source": [
    "system(\"date\")"
   ]
  },
  {
   "cell_type": "code",
   "execution_count": null,
   "id": "fe49b92b",
   "metadata": {},
   "outputs": [],
   "source": [
    "system(\"ls\")"
   ]
  },
  {
   "cell_type": "code",
   "execution_count": null,
   "id": "7d57af45",
   "metadata": {},
   "outputs": [],
   "source": [
    "system('pwd')"
   ]
  },
  {
   "cell_type": "code",
   "execution_count": null,
   "id": "c6e1653f",
   "metadata": {},
   "outputs": [],
   "source": [
    "db=[[1,2,3],[4,5,6],[7,8,9]]"
   ]
  },
  {
   "cell_type": "code",
   "execution_count": null,
   "id": "0a5e2ea2",
   "metadata": {},
   "outputs": [],
   "source": [
    "db"
   ]
  },
  {
   "cell_type": "code",
   "execution_count": null,
   "id": "01fe0acf",
   "metadata": {},
   "outputs": [],
   "source": [
    "#  list is row wise operator so cannot slice a column so we use numpy arrays to do column and row wise operator\n",
    "db[:,1]"
   ]
  },
  {
   "cell_type": "code",
   "execution_count": null,
   "id": "12956c40",
   "metadata": {},
   "outputs": [],
   "source": [
    "import numpy\n",
    "dbnumpy=numpy.array(db)\n",
    "dbnumpy"
   ]
  },
  {
   "cell_type": "code",
   "execution_count": null,
   "id": "0549ac91",
   "metadata": {},
   "outputs": [],
   "source": [
    "dbnumpy[1:3,1:3]"
   ]
  },
  {
   "cell_type": "code",
   "execution_count": null,
   "id": "51c6cfb6",
   "metadata": {},
   "outputs": [],
   "source": []
  },
  {
   "cell_type": "code",
   "execution_count": null,
   "id": "c22f97f5",
   "metadata": {},
   "outputs": [],
   "source": []
  },
  {
   "cell_type": "code",
   "execution_count": null,
   "id": "6cbde5ae",
   "metadata": {},
   "outputs": [],
   "source": []
  },
  {
   "cell_type": "code",
   "execution_count": null,
   "id": "a048f40b",
   "metadata": {},
   "outputs": [],
   "source": [
    "# library for computer vision\n",
    "import cv2"
   ]
  },
  {
   "cell_type": "code",
   "execution_count": null,
   "id": "059f1b53",
   "metadata": {},
   "outputs": [],
   "source": [
    "# connects to laptop camera\n",
    "cap = cv2.VideoCapture(0)"
   ]
  },
  {
   "cell_type": "code",
   "execution_count": null,
   "id": "8171c368",
   "metadata": {},
   "outputs": [],
   "source": [
    "# click photograph\n",
    "status,photo = cap.read()"
   ]
  },
  {
   "cell_type": "code",
   "execution_count": null,
   "id": "133822cb",
   "metadata": {},
   "outputs": [],
   "source": [
    "# if it is true photo clicked successfully\n",
    "\n",
    "status"
   ]
  },
  {
   "cell_type": "code",
   "execution_count": null,
   "id": "c01b105a",
   "metadata": {},
   "outputs": [],
   "source": [
    "# photo gets stored in the harddisk\n",
    "cv2.imwrite(\"manish.png\",photo)"
   ]
  },
  {
   "cell_type": "code",
   "execution_count": null,
   "id": "ba69a927",
   "metadata": {},
   "outputs": [],
   "source": [
    "photo"
   ]
  },
  {
   "cell_type": "code",
   "execution_count": null,
   "id": "feb558f4",
   "metadata": {},
   "outputs": [],
   "source": [
    "photo.shape"
   ]
  },
  {
   "cell_type": "code",
   "execution_count": null,
   "id": "702c979f",
   "metadata": {},
   "outputs": [],
   "source": [
    "crop1=photo[100:550,400:1000]"
   ]
  },
  {
   "cell_type": "code",
   "execution_count": null,
   "id": "639c5257",
   "metadata": {},
   "outputs": [],
   "source": [
    "cv2.imwrite(\"crop1.png\",crop1)"
   ]
  },
  {
   "cell_type": "code",
   "execution_count": null,
   "id": "c25dc7da",
   "metadata": {},
   "outputs": [],
   "source": [
    "# to show photo from the python code in a window,we should use waitKey() to specify display time otherwise the code crashes\n",
    "cv2.imshow(\"my photo\",crop1)\n",
    "# the photo will be openned for 5000ms \n",
    "print(cv2.waitKey())\n",
    "# destroy`s the photo window\n",
    "cv2.destroyAllWindows()"
   ]
  },
  {
   "cell_type": "code",
   "execution_count": null,
   "id": "b9a5d06c",
   "metadata": {},
   "outputs": [],
   "source": [
    "# library for computer vision\n",
    "import cv2\n",
    "# connects to laptop camera\n",
    "cap = cv2.VideoCapture(0)"
   ]
  },
  {
   "cell_type": "code",
   "execution_count": null,
   "id": "f916d110",
   "metadata": {},
   "outputs": [],
   "source": [
    "while True:\n",
    "    status, photo=cap.read()\n",
    "    cv2.imshow(\"my photo\",photo)\n",
    "    if cv2.waitKey(10)==13:\n",
    "        break\n",
    "   \n",
    "# if we don't use destroy function the program gets hangup\n",
    "cv2.destroyAllWindows()\n",
    "print(\"Destoried The Window\")"
   ]
  },
  {
   "cell_type": "code",
   "execution_count": null,
   "id": "28b1ff09",
   "metadata": {},
   "outputs": [],
   "source": [
    "cap.release()"
   ]
  },
  {
   "cell_type": "code",
   "execution_count": null,
   "id": "13e89d07",
   "metadata": {},
   "outputs": [],
   "source": [
    "from cvzone.HandTrackingModule import HandDetector\n",
    "detector = HandDetector(maxHands = 1)\n",
    "status , photo = cap.read()\n",
    "hand = detector.findHands(photo,draw=False)\n",
    "if hand :\n",
    "    lmlist = hand[0]\n",
    "    totalFingers = detector.fingersUp(lmlist)\n",
    "    if totalFingers == [0, 1, 1, 0, 0]:\n",
    "        print(\"2 and 3 fingers up\")\n",
    "        myOSLaunch()\n",
    "    elif totalFingers == [0, 1, 0, 0, 0]:\n",
    "        print(\"1 finger is up, index finger\")\n",
    "        OSTerminate()\n",
    "    else:\n",
    "        print(\"Not Valid finger\")"
   ]
  },
  {
   "cell_type": "code",
   "execution_count": null,
   "id": "01dedfd4",
   "metadata": {},
   "outputs": [],
   "source": [
    "cap.release()"
   ]
  },
  {
   "cell_type": "code",
   "execution_count": null,
   "id": "81a60312",
   "metadata": {},
   "outputs": [],
   "source": [
    "# to connect to ec2 service\n",
    "ec2 = boto3.resource(\"ec2\")"
   ]
  },
  {
   "cell_type": "code",
   "execution_count": null,
   "id": "38df0644",
   "metadata": {},
   "outputs": [],
   "source": [
    "myOSLaunch()"
   ]
  },
  {
   "cell_type": "code",
   "execution_count": null,
   "id": "accb050f",
   "metadata": {},
   "outputs": [],
   "source": [
    "allOS"
   ]
  },
  {
   "cell_type": "code",
   "execution_count": 1,
   "id": "bf1daecd",
   "metadata": {},
   "outputs": [],
   "source": [
    "def myOSLaunch():\n",
    "    # to create a ec2 instance\n",
    "    instances = ec2.create_instances(\n",
    "            ImageId=\"ami-0a2acf24c0d86e927\",\n",
    "            MinCount=1,\n",
    "            MaxCount=1,\n",
    "            InstanceType=\"t2.micro\",\n",
    "            SecurityGroupIds=[\"sg-013146ddf51ebe76e\"]\n",
    "        )\n",
    "    myid=instances[0].id\n",
    "    allOS.append(myid)\n",
    "    print(\"Total OS: \",len(allOS))\n",
    "    print(myid)"
   ]
  },
  {
   "cell_type": "code",
   "execution_count": 2,
   "id": "4d234588",
   "metadata": {},
   "outputs": [],
   "source": [
    "def OSTerminate():\n",
    "    if(len(allOS)):\n",
    "        osDelete=allOS.pop()\n",
    "        ec2.instances.filter(InstanceIds=[osDelete]).terminate()\n",
    "        print(\"Total OS: \",len(allOS))\n",
    "    else:\n",
    "        print(\"No OS To Delete\")"
   ]
  },
  {
   "cell_type": "code",
   "execution_count": null,
   "id": "f23b1356",
   "metadata": {},
   "outputs": [],
   "source": [
    "# library for computer vision\n",
    "import cv2\n",
    "# connects to laptop camera\n",
    "cap = cv2.VideoCapture(0)\n",
    "\n",
    "import boto3\n",
    "# to connect to ec2 service\n",
    "ec2 = boto3.resource(\"ec2\")\n",
    "# to store newly created instance ids\n",
    "allOS=[]\n",
    "\n",
    "#importing library for hand and fingers up detecting\n",
    "from cvzone.HandTrackingModule import HandDetector\n",
    "#HandDetector should detects atmost 1 hand\n",
    "detector = HandDetector(maxHands = 1)\n",
    "\n",
    "while True:\n",
    "    status , photo = cap.read()\n",
    "    # to show photo from the python code in a window,we should use waitKey() to specify display time otherwise the code crashes\n",
    "    cv2.imshow(\"my photo\",photo)\n",
    "    # the photo will be openned for 10ms,13 is the value for enter key\n",
    "    if(cv2.waitKey(10)==13):\n",
    "        #to disconnect from the laptop camera\n",
    "        cap.release()\n",
    "        break\n",
    "    \n",
    "    # it will detect hand from the image\n",
    "    hand = detector.findHands(photo,draw=False)\n",
    "    if hand :\n",
    "        lmlist = hand[0]\n",
    "        #this will detect which fingers of the hand are up\n",
    "        totalFingers = detector.fingersUp(lmlist)\n",
    "        if totalFingers == [0, 1, 1, 0, 0]:\n",
    "            print(\"2 and 3 fingers up\")\n",
    "            #function to scale up\n",
    "            myOSLaunch()\n",
    "        elif totalFingers == [0, 1, 0, 0, 0]:\n",
    "            print(\"1 finger is up, index finger\")\n",
    "            #function to scale in\n",
    "            OSTerminate()\n",
    "        else:\n",
    "            print(\"Not Valid finger\")\n",
    "    \n",
    "# destroy's the photo window\n",
    "cv2.destroyAllWindows()"
   ]
  }
 ],
 "metadata": {
  "kernelspec": {
   "display_name": "Python 3 (ipykernel)",
   "language": "python",
   "name": "python3"
  },
  "language_info": {
   "codemirror_mode": {
    "name": "ipython",
    "version": 3
   },
   "file_extension": ".py",
   "mimetype": "text/x-python",
   "name": "python",
   "nbconvert_exporter": "python",
   "pygments_lexer": "ipython3",
   "version": "3.9.12"
  }
 },
 "nbformat": 4,
 "nbformat_minor": 5
}
